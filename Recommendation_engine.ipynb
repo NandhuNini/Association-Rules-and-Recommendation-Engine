{
  "nbformat": 4,
  "nbformat_minor": 0,
  "metadata": {
    "colab": {
      "provenance": []
    },
    "kernelspec": {
      "name": "python3",
      "display_name": "Python 3"
    },
    "language_info": {
      "name": "python"
    }
  },
  "cells": [
    {
      "cell_type": "markdown",
      "source": [
        "# Recommendation System"
      ],
      "metadata": {
        "id": "DY75xDY_wibz"
      }
    },
    {
      "cell_type": "markdown",
      "source": [
        "### Data Description:\n",
        "\n",
        "Unique ID of each anime.\n",
        "\n",
        "\n",
        "Anime title.\n",
        "\n",
        "\n",
        "Anime broadcast type, such as TV, OVA, etc.\n",
        "\n",
        "\n",
        "anime genre.\n",
        "\n",
        "\n",
        "The number of episodes of each anime.\n",
        "\n",
        "\n",
        "The average rating for each anime compared to the number of users who gave ratings.\n",
        "\n",
        "Number of community members for each anime."
      ],
      "metadata": {
        "id": "hj0vYtnawpE8"
      }
    },
    {
      "cell_type": "code",
      "source": [
        "#import necessary libraries\n",
        "import numpy as np\n",
        "import pandas as pd\n",
        "import warnings\n",
        "warnings.filterwarnings('ignore')\n",
        "from sklearn.metrics.pairwise import cosine_similarity, euclidean_distances\n",
        "from sklearn.feature_extraction.text import TfidfVectorizer\n",
        "from sklearn.model_selection import train_test_split\n",
        "from sklearn.metrics import precision_score, recall_score, f1_score"
      ],
      "metadata": {
        "id": "vOMLS88UChVO"
      },
      "execution_count": null,
      "outputs": []
    },
    {
      "cell_type": "markdown",
      "source": [
        "Objective:\n",
        "The objective of this assignment is to implement a recommendation system using cosine similarity on an anime dataset.\n",
        "Dataset:\n",
        "Use the Anime Dataset which contains information about various anime, including their titles, genres,No.of episodes and user ratings etc."
      ],
      "metadata": {
        "id": "7GRd1r_Iw8Ai"
      }
    },
    {
      "cell_type": "markdown",
      "source": [
        "Tasks:\n",
        "\n",
        "Data Preprocessing:\n",
        "\n",
        "Load the dataset into a suitable data structure (e.g., pandas DataFrame).\n",
        "\n",
        "\n",
        "Handle missing values, if any.\n",
        "\n",
        "\n",
        "Explore the dataset to understand its structure and attributes.\n"
      ],
      "metadata": {
        "id": "prC7UeVNxBTR"
      }
    },
    {
      "cell_type": "code",
      "source": [
        "#load dataset\n",
        "df=pd.read_csv('anime.csv')"
      ],
      "metadata": {
        "id": "FYEj4CgXFChE"
      },
      "execution_count": null,
      "outputs": []
    },
    {
      "cell_type": "code",
      "source": [
        "df.shape"
      ],
      "metadata": {
        "colab": {
          "base_uri": "https://localhost:8080/"
        },
        "id": "tAqDnEnfFZIl",
        "outputId": "e472850d-0818-452e-b958-0ee01ea438c5"
      },
      "execution_count": null,
      "outputs": [
        {
          "output_type": "execute_result",
          "data": {
            "text/plain": [
              "(12294, 7)"
            ]
          },
          "metadata": {},
          "execution_count": 3
        }
      ]
    },
    {
      "cell_type": "code",
      "source": [
        "df.head()"
      ],
      "metadata": {
        "colab": {
          "base_uri": "https://localhost:8080/",
          "height": 206
        },
        "id": "EYRSSeU3Fa44",
        "outputId": "a81dd11a-a69b-484d-9922-1ad0526ebd5f"
      },
      "execution_count": null,
      "outputs": [
        {
          "output_type": "execute_result",
          "data": {
            "text/plain": [
              "   anime_id                              name  \\\n",
              "0     32281                    Kimi no Na wa.   \n",
              "1      5114  Fullmetal Alchemist: Brotherhood   \n",
              "2     28977                          Gintama°   \n",
              "3      9253                       Steins;Gate   \n",
              "4      9969                     Gintama&#039;   \n",
              "\n",
              "                                               genre   type episodes  rating  \\\n",
              "0               Drama, Romance, School, Supernatural  Movie        1    9.37   \n",
              "1  Action, Adventure, Drama, Fantasy, Magic, Mili...     TV       64    9.26   \n",
              "2  Action, Comedy, Historical, Parody, Samurai, S...     TV       51    9.25   \n",
              "3                                   Sci-Fi, Thriller     TV       24    9.17   \n",
              "4  Action, Comedy, Historical, Parody, Samurai, S...     TV       51    9.16   \n",
              "\n",
              "   members  \n",
              "0   200630  \n",
              "1   793665  \n",
              "2   114262  \n",
              "3   673572  \n",
              "4   151266  "
            ],
            "text/html": [
              "\n",
              "  <div id=\"df-4e46264a-f8a8-430f-977b-e0544c36a0f0\" class=\"colab-df-container\">\n",
              "    <div>\n",
              "<style scoped>\n",
              "    .dataframe tbody tr th:only-of-type {\n",
              "        vertical-align: middle;\n",
              "    }\n",
              "\n",
              "    .dataframe tbody tr th {\n",
              "        vertical-align: top;\n",
              "    }\n",
              "\n",
              "    .dataframe thead th {\n",
              "        text-align: right;\n",
              "    }\n",
              "</style>\n",
              "<table border=\"1\" class=\"dataframe\">\n",
              "  <thead>\n",
              "    <tr style=\"text-align: right;\">\n",
              "      <th></th>\n",
              "      <th>anime_id</th>\n",
              "      <th>name</th>\n",
              "      <th>genre</th>\n",
              "      <th>type</th>\n",
              "      <th>episodes</th>\n",
              "      <th>rating</th>\n",
              "      <th>members</th>\n",
              "    </tr>\n",
              "  </thead>\n",
              "  <tbody>\n",
              "    <tr>\n",
              "      <th>0</th>\n",
              "      <td>32281</td>\n",
              "      <td>Kimi no Na wa.</td>\n",
              "      <td>Drama, Romance, School, Supernatural</td>\n",
              "      <td>Movie</td>\n",
              "      <td>1</td>\n",
              "      <td>9.37</td>\n",
              "      <td>200630</td>\n",
              "    </tr>\n",
              "    <tr>\n",
              "      <th>1</th>\n",
              "      <td>5114</td>\n",
              "      <td>Fullmetal Alchemist: Brotherhood</td>\n",
              "      <td>Action, Adventure, Drama, Fantasy, Magic, Mili...</td>\n",
              "      <td>TV</td>\n",
              "      <td>64</td>\n",
              "      <td>9.26</td>\n",
              "      <td>793665</td>\n",
              "    </tr>\n",
              "    <tr>\n",
              "      <th>2</th>\n",
              "      <td>28977</td>\n",
              "      <td>Gintama°</td>\n",
              "      <td>Action, Comedy, Historical, Parody, Samurai, S...</td>\n",
              "      <td>TV</td>\n",
              "      <td>51</td>\n",
              "      <td>9.25</td>\n",
              "      <td>114262</td>\n",
              "    </tr>\n",
              "    <tr>\n",
              "      <th>3</th>\n",
              "      <td>9253</td>\n",
              "      <td>Steins;Gate</td>\n",
              "      <td>Sci-Fi, Thriller</td>\n",
              "      <td>TV</td>\n",
              "      <td>24</td>\n",
              "      <td>9.17</td>\n",
              "      <td>673572</td>\n",
              "    </tr>\n",
              "    <tr>\n",
              "      <th>4</th>\n",
              "      <td>9969</td>\n",
              "      <td>Gintama&amp;#039;</td>\n",
              "      <td>Action, Comedy, Historical, Parody, Samurai, S...</td>\n",
              "      <td>TV</td>\n",
              "      <td>51</td>\n",
              "      <td>9.16</td>\n",
              "      <td>151266</td>\n",
              "    </tr>\n",
              "  </tbody>\n",
              "</table>\n",
              "</div>\n",
              "    <div class=\"colab-df-buttons\">\n",
              "\n",
              "  <div class=\"colab-df-container\">\n",
              "    <button class=\"colab-df-convert\" onclick=\"convertToInteractive('df-4e46264a-f8a8-430f-977b-e0544c36a0f0')\"\n",
              "            title=\"Convert this dataframe to an interactive table.\"\n",
              "            style=\"display:none;\">\n",
              "\n",
              "  <svg xmlns=\"http://www.w3.org/2000/svg\" height=\"24px\" viewBox=\"0 -960 960 960\">\n",
              "    <path d=\"M120-120v-720h720v720H120Zm60-500h600v-160H180v160Zm220 220h160v-160H400v160Zm0 220h160v-160H400v160ZM180-400h160v-160H180v160Zm440 0h160v-160H620v160ZM180-180h160v-160H180v160Zm440 0h160v-160H620v160Z\"/>\n",
              "  </svg>\n",
              "    </button>\n",
              "\n",
              "  <style>\n",
              "    .colab-df-container {\n",
              "      display:flex;\n",
              "      gap: 12px;\n",
              "    }\n",
              "\n",
              "    .colab-df-convert {\n",
              "      background-color: #E8F0FE;\n",
              "      border: none;\n",
              "      border-radius: 50%;\n",
              "      cursor: pointer;\n",
              "      display: none;\n",
              "      fill: #1967D2;\n",
              "      height: 32px;\n",
              "      padding: 0 0 0 0;\n",
              "      width: 32px;\n",
              "    }\n",
              "\n",
              "    .colab-df-convert:hover {\n",
              "      background-color: #E2EBFA;\n",
              "      box-shadow: 0px 1px 2px rgba(60, 64, 67, 0.3), 0px 1px 3px 1px rgba(60, 64, 67, 0.15);\n",
              "      fill: #174EA6;\n",
              "    }\n",
              "\n",
              "    .colab-df-buttons div {\n",
              "      margin-bottom: 4px;\n",
              "    }\n",
              "\n",
              "    [theme=dark] .colab-df-convert {\n",
              "      background-color: #3B4455;\n",
              "      fill: #D2E3FC;\n",
              "    }\n",
              "\n",
              "    [theme=dark] .colab-df-convert:hover {\n",
              "      background-color: #434B5C;\n",
              "      box-shadow: 0px 1px 3px 1px rgba(0, 0, 0, 0.15);\n",
              "      filter: drop-shadow(0px 1px 2px rgba(0, 0, 0, 0.3));\n",
              "      fill: #FFFFFF;\n",
              "    }\n",
              "  </style>\n",
              "\n",
              "    <script>\n",
              "      const buttonEl =\n",
              "        document.querySelector('#df-4e46264a-f8a8-430f-977b-e0544c36a0f0 button.colab-df-convert');\n",
              "      buttonEl.style.display =\n",
              "        google.colab.kernel.accessAllowed ? 'block' : 'none';\n",
              "\n",
              "      async function convertToInteractive(key) {\n",
              "        const element = document.querySelector('#df-4e46264a-f8a8-430f-977b-e0544c36a0f0');\n",
              "        const dataTable =\n",
              "          await google.colab.kernel.invokeFunction('convertToInteractive',\n",
              "                                                    [key], {});\n",
              "        if (!dataTable) return;\n",
              "\n",
              "        const docLinkHtml = 'Like what you see? Visit the ' +\n",
              "          '<a target=\"_blank\" href=https://colab.research.google.com/notebooks/data_table.ipynb>data table notebook</a>'\n",
              "          + ' to learn more about interactive tables.';\n",
              "        element.innerHTML = '';\n",
              "        dataTable['output_type'] = 'display_data';\n",
              "        await google.colab.output.renderOutput(dataTable, element);\n",
              "        const docLink = document.createElement('div');\n",
              "        docLink.innerHTML = docLinkHtml;\n",
              "        element.appendChild(docLink);\n",
              "      }\n",
              "    </script>\n",
              "  </div>\n",
              "\n",
              "\n",
              "    <div id=\"df-db2d5cae-2821-4ff7-9efd-93991b78d66c\">\n",
              "      <button class=\"colab-df-quickchart\" onclick=\"quickchart('df-db2d5cae-2821-4ff7-9efd-93991b78d66c')\"\n",
              "                title=\"Suggest charts\"\n",
              "                style=\"display:none;\">\n",
              "\n",
              "<svg xmlns=\"http://www.w3.org/2000/svg\" height=\"24px\"viewBox=\"0 0 24 24\"\n",
              "     width=\"24px\">\n",
              "    <g>\n",
              "        <path d=\"M19 3H5c-1.1 0-2 .9-2 2v14c0 1.1.9 2 2 2h14c1.1 0 2-.9 2-2V5c0-1.1-.9-2-2-2zM9 17H7v-7h2v7zm4 0h-2V7h2v10zm4 0h-2v-4h2v4z\"/>\n",
              "    </g>\n",
              "</svg>\n",
              "      </button>\n",
              "\n",
              "<style>\n",
              "  .colab-df-quickchart {\n",
              "      --bg-color: #E8F0FE;\n",
              "      --fill-color: #1967D2;\n",
              "      --hover-bg-color: #E2EBFA;\n",
              "      --hover-fill-color: #174EA6;\n",
              "      --disabled-fill-color: #AAA;\n",
              "      --disabled-bg-color: #DDD;\n",
              "  }\n",
              "\n",
              "  [theme=dark] .colab-df-quickchart {\n",
              "      --bg-color: #3B4455;\n",
              "      --fill-color: #D2E3FC;\n",
              "      --hover-bg-color: #434B5C;\n",
              "      --hover-fill-color: #FFFFFF;\n",
              "      --disabled-bg-color: #3B4455;\n",
              "      --disabled-fill-color: #666;\n",
              "  }\n",
              "\n",
              "  .colab-df-quickchart {\n",
              "    background-color: var(--bg-color);\n",
              "    border: none;\n",
              "    border-radius: 50%;\n",
              "    cursor: pointer;\n",
              "    display: none;\n",
              "    fill: var(--fill-color);\n",
              "    height: 32px;\n",
              "    padding: 0;\n",
              "    width: 32px;\n",
              "  }\n",
              "\n",
              "  .colab-df-quickchart:hover {\n",
              "    background-color: var(--hover-bg-color);\n",
              "    box-shadow: 0 1px 2px rgba(60, 64, 67, 0.3), 0 1px 3px 1px rgba(60, 64, 67, 0.15);\n",
              "    fill: var(--button-hover-fill-color);\n",
              "  }\n",
              "\n",
              "  .colab-df-quickchart-complete:disabled,\n",
              "  .colab-df-quickchart-complete:disabled:hover {\n",
              "    background-color: var(--disabled-bg-color);\n",
              "    fill: var(--disabled-fill-color);\n",
              "    box-shadow: none;\n",
              "  }\n",
              "\n",
              "  .colab-df-spinner {\n",
              "    border: 2px solid var(--fill-color);\n",
              "    border-color: transparent;\n",
              "    border-bottom-color: var(--fill-color);\n",
              "    animation:\n",
              "      spin 1s steps(1) infinite;\n",
              "  }\n",
              "\n",
              "  @keyframes spin {\n",
              "    0% {\n",
              "      border-color: transparent;\n",
              "      border-bottom-color: var(--fill-color);\n",
              "      border-left-color: var(--fill-color);\n",
              "    }\n",
              "    20% {\n",
              "      border-color: transparent;\n",
              "      border-left-color: var(--fill-color);\n",
              "      border-top-color: var(--fill-color);\n",
              "    }\n",
              "    30% {\n",
              "      border-color: transparent;\n",
              "      border-left-color: var(--fill-color);\n",
              "      border-top-color: var(--fill-color);\n",
              "      border-right-color: var(--fill-color);\n",
              "    }\n",
              "    40% {\n",
              "      border-color: transparent;\n",
              "      border-right-color: var(--fill-color);\n",
              "      border-top-color: var(--fill-color);\n",
              "    }\n",
              "    60% {\n",
              "      border-color: transparent;\n",
              "      border-right-color: var(--fill-color);\n",
              "    }\n",
              "    80% {\n",
              "      border-color: transparent;\n",
              "      border-right-color: var(--fill-color);\n",
              "      border-bottom-color: var(--fill-color);\n",
              "    }\n",
              "    90% {\n",
              "      border-color: transparent;\n",
              "      border-bottom-color: var(--fill-color);\n",
              "    }\n",
              "  }\n",
              "</style>\n",
              "\n",
              "      <script>\n",
              "        async function quickchart(key) {\n",
              "          const quickchartButtonEl =\n",
              "            document.querySelector('#' + key + ' button');\n",
              "          quickchartButtonEl.disabled = true;  // To prevent multiple clicks.\n",
              "          quickchartButtonEl.classList.add('colab-df-spinner');\n",
              "          try {\n",
              "            const charts = await google.colab.kernel.invokeFunction(\n",
              "                'suggestCharts', [key], {});\n",
              "          } catch (error) {\n",
              "            console.error('Error during call to suggestCharts:', error);\n",
              "          }\n",
              "          quickchartButtonEl.classList.remove('colab-df-spinner');\n",
              "          quickchartButtonEl.classList.add('colab-df-quickchart-complete');\n",
              "        }\n",
              "        (() => {\n",
              "          let quickchartButtonEl =\n",
              "            document.querySelector('#df-db2d5cae-2821-4ff7-9efd-93991b78d66c button');\n",
              "          quickchartButtonEl.style.display =\n",
              "            google.colab.kernel.accessAllowed ? 'block' : 'none';\n",
              "        })();\n",
              "      </script>\n",
              "    </div>\n",
              "\n",
              "    </div>\n",
              "  </div>\n"
            ],
            "application/vnd.google.colaboratory.intrinsic+json": {
              "type": "dataframe",
              "variable_name": "df",
              "summary": "{\n  \"name\": \"df\",\n  \"rows\": 12294,\n  \"fields\": [\n    {\n      \"column\": \"anime_id\",\n      \"properties\": {\n        \"dtype\": \"number\",\n        \"std\": 11455,\n        \"min\": 1,\n        \"max\": 34527,\n        \"num_unique_values\": 12294,\n        \"samples\": [\n          17209,\n          173,\n          3616\n        ],\n        \"semantic_type\": \"\",\n        \"description\": \"\"\n      }\n    },\n    {\n      \"column\": \"name\",\n      \"properties\": {\n        \"dtype\": \"string\",\n        \"num_unique_values\": 12292,\n        \"samples\": [\n          \"Nils no Fushigi na Tabi (Movie)\",\n          \"Tactics\",\n          \"Kamen no Maid Guy\"\n        ],\n        \"semantic_type\": \"\",\n        \"description\": \"\"\n      }\n    },\n    {\n      \"column\": \"genre\",\n      \"properties\": {\n        \"dtype\": \"category\",\n        \"num_unique_values\": 3264,\n        \"samples\": [\n          \"Horror, Supernatural\",\n          \"Action, Adventure, Comedy, Demons, Fantasy, Magic, Romance, Shounen, Supernatural\",\n          \"Action, Comedy, Harem, Parody, Romance\"\n        ],\n        \"semantic_type\": \"\",\n        \"description\": \"\"\n      }\n    },\n    {\n      \"column\": \"type\",\n      \"properties\": {\n        \"dtype\": \"category\",\n        \"num_unique_values\": 6,\n        \"samples\": [\n          \"Movie\",\n          \"TV\",\n          \"ONA\"\n        ],\n        \"semantic_type\": \"\",\n        \"description\": \"\"\n      }\n    },\n    {\n      \"column\": \"episodes\",\n      \"properties\": {\n        \"dtype\": \"category\",\n        \"num_unique_values\": 187,\n        \"samples\": [\n          \"141\",\n          \"54\",\n          \"52\"\n        ],\n        \"semantic_type\": \"\",\n        \"description\": \"\"\n      }\n    },\n    {\n      \"column\": \"rating\",\n      \"properties\": {\n        \"dtype\": \"number\",\n        \"std\": 1.0267463068980598,\n        \"min\": 1.67,\n        \"max\": 10.0,\n        \"num_unique_values\": 598,\n        \"samples\": [\n          7.87,\n          6.11,\n          4.1\n        ],\n        \"semantic_type\": \"\",\n        \"description\": \"\"\n      }\n    },\n    {\n      \"column\": \"members\",\n      \"properties\": {\n        \"dtype\": \"number\",\n        \"std\": 54820,\n        \"min\": 5,\n        \"max\": 1013917,\n        \"num_unique_values\": 6706,\n        \"samples\": [\n          170754,\n          1515,\n          66376\n        ],\n        \"semantic_type\": \"\",\n        \"description\": \"\"\n      }\n    }\n  ]\n}"
            }
          },
          "metadata": {},
          "execution_count": 4
        }
      ]
    },
    {
      "cell_type": "code",
      "source": [
        "len(df['name'].unique()) # we have 12292 unique anime name"
      ],
      "metadata": {
        "colab": {
          "base_uri": "https://localhost:8080/"
        },
        "id": "2dKPUCGRFcmk",
        "outputId": "7f3f793b-7c1b-473f-ef1f-9aea4411b333"
      },
      "execution_count": null,
      "outputs": [
        {
          "output_type": "execute_result",
          "data": {
            "text/plain": [
              "12292"
            ]
          },
          "metadata": {},
          "execution_count": 5
        }
      ]
    },
    {
      "cell_type": "code",
      "source": [
        "len(df['genre'].unique()) #with genre of 3265"
      ],
      "metadata": {
        "colab": {
          "base_uri": "https://localhost:8080/"
        },
        "id": "RnU9XLJfFqkk",
        "outputId": "d80ed159-fef1-4ba6-fceb-5fd6d85aab56"
      },
      "execution_count": null,
      "outputs": [
        {
          "output_type": "execute_result",
          "data": {
            "text/plain": [
              "3265"
            ]
          },
          "metadata": {},
          "execution_count": 6
        }
      ]
    },
    {
      "cell_type": "code",
      "source": [
        "df['type'].unique()"
      ],
      "metadata": {
        "colab": {
          "base_uri": "https://localhost:8080/"
        },
        "id": "fLw7a9dwFwvG",
        "outputId": "dbb23d2d-ed0a-48a4-bd3c-09cdd1a5cff3"
      },
      "execution_count": null,
      "outputs": [
        {
          "output_type": "execute_result",
          "data": {
            "text/plain": [
              "array(['Movie', 'TV', 'OVA', 'Special', 'Music', 'ONA', nan], dtype=object)"
            ]
          },
          "metadata": {},
          "execution_count": 7
        }
      ]
    },
    {
      "cell_type": "code",
      "source": [
        "len(df['rating'].unique()) #rating from 0 to 10 we have 599"
      ],
      "metadata": {
        "colab": {
          "base_uri": "https://localhost:8080/"
        },
        "id": "tMHyFXX1F1FI",
        "outputId": "1ca77055-46f2-4a55-cddc-a52e421ce50a"
      },
      "execution_count": null,
      "outputs": [
        {
          "output_type": "execute_result",
          "data": {
            "text/plain": [
              "599"
            ]
          },
          "metadata": {},
          "execution_count": 8
        }
      ]
    },
    {
      "cell_type": "code",
      "source": [
        "#groupy\n",
        "df.groupby('type')['rating'].mean().sort_values(ascending=False)## we have TV watching people is more"
      ],
      "metadata": {
        "colab": {
          "base_uri": "https://localhost:8080/",
          "height": 303
        },
        "id": "8qGwZNouuhuA",
        "outputId": "9bbb48ca-9eca-43c8-917f-ccff44670af5"
      },
      "execution_count": null,
      "outputs": [
        {
          "output_type": "execute_result",
          "data": {
            "text/plain": [
              "type\n",
              "TV         6.902299\n",
              "Special    6.523501\n",
              "OVA        6.375221\n",
              "Movie      6.318058\n",
              "ONA        5.643298\n",
              "Music      5.588996\n",
              "Name: rating, dtype: float64"
            ],
            "text/html": [
              "<div>\n",
              "<style scoped>\n",
              "    .dataframe tbody tr th:only-of-type {\n",
              "        vertical-align: middle;\n",
              "    }\n",
              "\n",
              "    .dataframe tbody tr th {\n",
              "        vertical-align: top;\n",
              "    }\n",
              "\n",
              "    .dataframe thead th {\n",
              "        text-align: right;\n",
              "    }\n",
              "</style>\n",
              "<table border=\"1\" class=\"dataframe\">\n",
              "  <thead>\n",
              "    <tr style=\"text-align: right;\">\n",
              "      <th></th>\n",
              "      <th>rating</th>\n",
              "    </tr>\n",
              "    <tr>\n",
              "      <th>type</th>\n",
              "      <th></th>\n",
              "    </tr>\n",
              "  </thead>\n",
              "  <tbody>\n",
              "    <tr>\n",
              "      <th>TV</th>\n",
              "      <td>6.902299</td>\n",
              "    </tr>\n",
              "    <tr>\n",
              "      <th>Special</th>\n",
              "      <td>6.523501</td>\n",
              "    </tr>\n",
              "    <tr>\n",
              "      <th>OVA</th>\n",
              "      <td>6.375221</td>\n",
              "    </tr>\n",
              "    <tr>\n",
              "      <th>Movie</th>\n",
              "      <td>6.318058</td>\n",
              "    </tr>\n",
              "    <tr>\n",
              "      <th>ONA</th>\n",
              "      <td>5.643298</td>\n",
              "    </tr>\n",
              "    <tr>\n",
              "      <th>Music</th>\n",
              "      <td>5.588996</td>\n",
              "    </tr>\n",
              "  </tbody>\n",
              "</table>\n",
              "</div><br><label><b>dtype:</b> float64</label>"
            ]
          },
          "metadata": {},
          "execution_count": 9
        }
      ]
    },
    {
      "cell_type": "code",
      "source": [
        "#groupby\n",
        "df.groupby('genre')['rating'].mean().sort_values(ascending=False)## we have Action, Adventure, Drama, Fantasy, Magic, Military, Shounen\t watching people is more"
      ],
      "metadata": {
        "colab": {
          "base_uri": "https://localhost:8080/",
          "height": 489
        },
        "id": "90EFtQrcut77",
        "outputId": "1b5c9cad-578f-44e4-ecf6-a4d946e2e114"
      },
      "execution_count": null,
      "outputs": [
        {
          "output_type": "execute_result",
          "data": {
            "text/plain": [
              "genre\n",
              "Action, Adventure, Drama, Fantasy, Magic, Military, Shounen    9.26\n",
              "Drama, Fantasy, Romance, Slice of Life, Supernatural           9.06\n",
              "Drama, School, Shounen                                         9.05\n",
              "Action, Drama, Mecha, Military, Sci-Fi, Super Power            8.98\n",
              "Adventure, Drama, Supernatural                                 8.93\n",
              "                                                               ... \n",
              "Horror, School, Seinen, Supernatural                            NaN\n",
              "Magic, Military                                                 NaN\n",
              "Mecha, School                                                   NaN\n",
              "Music, Romance, Shoujo                                          NaN\n",
              "Mystery, School, Super Power, Supernatural                      NaN\n",
              "Name: rating, Length: 3264, dtype: float64"
            ],
            "text/html": [
              "<div>\n",
              "<style scoped>\n",
              "    .dataframe tbody tr th:only-of-type {\n",
              "        vertical-align: middle;\n",
              "    }\n",
              "\n",
              "    .dataframe tbody tr th {\n",
              "        vertical-align: top;\n",
              "    }\n",
              "\n",
              "    .dataframe thead th {\n",
              "        text-align: right;\n",
              "    }\n",
              "</style>\n",
              "<table border=\"1\" class=\"dataframe\">\n",
              "  <thead>\n",
              "    <tr style=\"text-align: right;\">\n",
              "      <th></th>\n",
              "      <th>rating</th>\n",
              "    </tr>\n",
              "    <tr>\n",
              "      <th>genre</th>\n",
              "      <th></th>\n",
              "    </tr>\n",
              "  </thead>\n",
              "  <tbody>\n",
              "    <tr>\n",
              "      <th>Action, Adventure, Drama, Fantasy, Magic, Military, Shounen</th>\n",
              "      <td>9.26</td>\n",
              "    </tr>\n",
              "    <tr>\n",
              "      <th>Drama, Fantasy, Romance, Slice of Life, Supernatural</th>\n",
              "      <td>9.06</td>\n",
              "    </tr>\n",
              "    <tr>\n",
              "      <th>Drama, School, Shounen</th>\n",
              "      <td>9.05</td>\n",
              "    </tr>\n",
              "    <tr>\n",
              "      <th>Action, Drama, Mecha, Military, Sci-Fi, Super Power</th>\n",
              "      <td>8.98</td>\n",
              "    </tr>\n",
              "    <tr>\n",
              "      <th>Adventure, Drama, Supernatural</th>\n",
              "      <td>8.93</td>\n",
              "    </tr>\n",
              "    <tr>\n",
              "      <th>...</th>\n",
              "      <td>...</td>\n",
              "    </tr>\n",
              "    <tr>\n",
              "      <th>Horror, School, Seinen, Supernatural</th>\n",
              "      <td>NaN</td>\n",
              "    </tr>\n",
              "    <tr>\n",
              "      <th>Magic, Military</th>\n",
              "      <td>NaN</td>\n",
              "    </tr>\n",
              "    <tr>\n",
              "      <th>Mecha, School</th>\n",
              "      <td>NaN</td>\n",
              "    </tr>\n",
              "    <tr>\n",
              "      <th>Music, Romance, Shoujo</th>\n",
              "      <td>NaN</td>\n",
              "    </tr>\n",
              "    <tr>\n",
              "      <th>Mystery, School, Super Power, Supernatural</th>\n",
              "      <td>NaN</td>\n",
              "    </tr>\n",
              "  </tbody>\n",
              "</table>\n",
              "<p>3264 rows × 1 columns</p>\n",
              "</div><br><label><b>dtype:</b> float64</label>"
            ]
          },
          "metadata": {},
          "execution_count": 10
        }
      ]
    },
    {
      "cell_type": "code",
      "source": [
        "## fill missing values in genre and type\n",
        "df['genre'] = df['genre'].fillna('Unknown')\n",
        "df['type'] = df['type'].fillna('Unknown')"
      ],
      "metadata": {
        "id": "soSwg-Qth63k"
      },
      "execution_count": null,
      "outputs": []
    },
    {
      "cell_type": "markdown",
      "source": [
        "Feature Extraction:\n",
        "\n",
        "Decide on the features that will be used for computing similarity (e.g., genres, user ratings).\n",
        "\n",
        "\n",
        "Convert categorical features into numerical representations if necessary.\n",
        "\n",
        "\n",
        "Normalize numerical features if required."
      ],
      "metadata": {
        "id": "AswocfB_xIG5"
      }
    },
    {
      "cell_type": "code",
      "source": [
        "df1 = df[['anime_id', 'name', 'genre', 'type', 'episodes', 'rating', 'members']]"
      ],
      "metadata": {
        "id": "ZMBoZ0dGnQ1i"
      },
      "execution_count": null,
      "outputs": []
    },
    {
      "cell_type": "code",
      "source": [
        "# Concatenate the two text columns (genre and type)\n",
        "df1['combined_features'] = df1['genre'] + ' ' + df1['type']\n",
        "df1['combined_features']"
      ],
      "metadata": {
        "colab": {
          "base_uri": "https://localhost:8080/",
          "height": 458
        },
        "id": "iP_JJdOTijFG",
        "outputId": "fdc614d8-5282-4ece-fe98-93dc74c29826"
      },
      "execution_count": null,
      "outputs": [
        {
          "output_type": "execute_result",
          "data": {
            "text/plain": [
              "0               Drama, Romance, School, Supernatural Movie\n",
              "1        Action, Adventure, Drama, Fantasy, Magic, Mili...\n",
              "2        Action, Comedy, Historical, Parody, Samurai, S...\n",
              "3                                      Sci-Fi, Thriller TV\n",
              "4        Action, Comedy, Historical, Parody, Samurai, S...\n",
              "                               ...                        \n",
              "12289                                           Hentai OVA\n",
              "12290                                           Hentai OVA\n",
              "12291                                           Hentai OVA\n",
              "12292                                           Hentai OVA\n",
              "12293                                         Hentai Movie\n",
              "Name: combined_features, Length: 12294, dtype: object"
            ],
            "text/html": [
              "<div>\n",
              "<style scoped>\n",
              "    .dataframe tbody tr th:only-of-type {\n",
              "        vertical-align: middle;\n",
              "    }\n",
              "\n",
              "    .dataframe tbody tr th {\n",
              "        vertical-align: top;\n",
              "    }\n",
              "\n",
              "    .dataframe thead th {\n",
              "        text-align: right;\n",
              "    }\n",
              "</style>\n",
              "<table border=\"1\" class=\"dataframe\">\n",
              "  <thead>\n",
              "    <tr style=\"text-align: right;\">\n",
              "      <th></th>\n",
              "      <th>combined_features</th>\n",
              "    </tr>\n",
              "  </thead>\n",
              "  <tbody>\n",
              "    <tr>\n",
              "      <th>0</th>\n",
              "      <td>Drama, Romance, School, Supernatural Movie</td>\n",
              "    </tr>\n",
              "    <tr>\n",
              "      <th>1</th>\n",
              "      <td>Action, Adventure, Drama, Fantasy, Magic, Mili...</td>\n",
              "    </tr>\n",
              "    <tr>\n",
              "      <th>2</th>\n",
              "      <td>Action, Comedy, Historical, Parody, Samurai, S...</td>\n",
              "    </tr>\n",
              "    <tr>\n",
              "      <th>3</th>\n",
              "      <td>Sci-Fi, Thriller TV</td>\n",
              "    </tr>\n",
              "    <tr>\n",
              "      <th>4</th>\n",
              "      <td>Action, Comedy, Historical, Parody, Samurai, S...</td>\n",
              "    </tr>\n",
              "    <tr>\n",
              "      <th>...</th>\n",
              "      <td>...</td>\n",
              "    </tr>\n",
              "    <tr>\n",
              "      <th>12289</th>\n",
              "      <td>Hentai OVA</td>\n",
              "    </tr>\n",
              "    <tr>\n",
              "      <th>12290</th>\n",
              "      <td>Hentai OVA</td>\n",
              "    </tr>\n",
              "    <tr>\n",
              "      <th>12291</th>\n",
              "      <td>Hentai OVA</td>\n",
              "    </tr>\n",
              "    <tr>\n",
              "      <th>12292</th>\n",
              "      <td>Hentai OVA</td>\n",
              "    </tr>\n",
              "    <tr>\n",
              "      <th>12293</th>\n",
              "      <td>Hentai Movie</td>\n",
              "    </tr>\n",
              "  </tbody>\n",
              "</table>\n",
              "<p>12294 rows × 1 columns</p>\n",
              "</div><br><label><b>dtype:</b> object</label>"
            ]
          },
          "metadata": {},
          "execution_count": 14
        }
      ]
    },
    {
      "cell_type": "code",
      "source": [
        "#We will recommend the anime by genre and rating wise\n",
        "tfidf=TfidfVectorizer(stop_words='english') # Stop_words means is, in , ...these types of words\n",
        "tfidf1=tfidf.fit_transform((df1['combined_features'])) ## Vectorization of texts\n",
        "tfidf1.shape"
      ],
      "metadata": {
        "colab": {
          "base_uri": "https://localhost:8080/"
        },
        "id": "b5SCsRNqglgt",
        "outputId": "b9d98f3c-755b-4f64-84c1-0ccb4546bb23"
      },
      "execution_count": null,
      "outputs": [
        {
          "output_type": "execute_result",
          "data": {
            "text/plain": [
              "(12294, 52)"
            ]
          },
          "metadata": {},
          "execution_count": 15
        }
      ]
    },
    {
      "cell_type": "code",
      "source": [
        "# Compute cosine similarity between all anime entries\n",
        "cos_sim = cosine_similarity(tfidf1, tfidf1)\n",
        "cos_sim.shape #Similarity matrix will be created by 12294 X 12294 matix"
      ],
      "metadata": {
        "id": "5Fw8aGxFnjjT",
        "colab": {
          "base_uri": "https://localhost:8080/"
        },
        "outputId": "495e3586-339b-408b-e6fb-c03f861b9027"
      },
      "execution_count": null,
      "outputs": [
        {
          "output_type": "execute_result",
          "data": {
            "text/plain": [
              "(12294, 12294)"
            ]
          },
          "metadata": {},
          "execution_count": 16
        }
      ]
    },
    {
      "cell_type": "markdown",
      "source": [
        "\n",
        "Recommendation System:\n",
        "\n",
        "Design a function to recommend anime based on cosine similarity.\n",
        "\n",
        "\n",
        "Given a target anime, recommend a list of similar anime based on cosine similarity scores.\n",
        "\n",
        "\n",
        "Experiment with different threshold values for similarity scores to adjust the recommendation list size.\n"
      ],
      "metadata": {
        "id": "XOZTKOcHxOCR"
      }
    },
    {
      "cell_type": "code",
      "source": [
        "# RECOMMEND ANIME BASED ON TYPE + GENRE SIMILARITY\n",
        "# Define the recommendation function\n",
        "def recommend_anime(title, num_recommendations=5, threshold=0.2): #title = Name of anime, num_recommendations = no of recommendations that want to show, threshold can be changed\n",
        "    if title not in df1['name'].values: # Check if the anime exists\n",
        "        print(\" Anime not found. Please check the title.\") #if not print anime not found\n",
        "        return\n",
        "    idx = df1[df1['name'] == title].index[0] # If anime found, Get index of the animme\n",
        "    sim_scores = list(enumerate(cos_sim[idx])) # Get similarity scores for all anime\n",
        "    sim_scores = sorted(sim_scores, key=lambda x: x[1], reverse=True)# Sort by similarity (descending order), key =lambda is for ordering the score by value wise not index wise\n",
        "    sim_scores = [x for x in sim_scores[1:] if x[1] >= threshold] # Skip itself and apply threshold\n",
        "    sim_scores = sim_scores[:num_recommendations] # Select top-N recommendations\n",
        "    print(f\"\\n Top {len(sim_scores)} Anime similar to '{title}' based on Type + Genre:\\n\") # Print results with type and genre info\n",
        "    for i, (index, score) in enumerate(sim_scores): #enumerate(sim_scores), we get a new sequence of tuples (i, (index, score)), where i gives ist of recommendations\n",
        "        print(f\"{i+1}. {df1.iloc[index]['name']}\") ## df1.iloc[index] gets the entire row at the given integer index,\n",
        "        print(f\"Type: {df1.iloc[index]['type']}\") #  and then ['name'], ['type'], or ['genre'] accesses the specific column value for that row.\n",
        "        print(f\"Genre: {df1.iloc[index]['genre']}\")\n",
        "        print(f\"Similarity Score: {score:.3f}\\n\")\n"
      ],
      "metadata": {
        "id": "luhys9clY6R0"
      },
      "execution_count": null,
      "outputs": []
    },
    {
      "cell_type": "code",
      "source": [
        "recommend_anime(\"Naruto\") # getting list of recommendations and its type , genre, and similarity socre"
      ],
      "metadata": {
        "id": "CIqTsIYWP_Uw",
        "colab": {
          "base_uri": "https://localhost:8080/"
        },
        "outputId": "5cfc0eb4-c2a9-4b86-ad68-ee75a510f6ae"
      },
      "execution_count": null,
      "outputs": [
        {
          "output_type": "stream",
          "name": "stdout",
          "text": [
            "\n",
            " Top 5 Anime similar to 'Naruto' based on Type + Genre:\n",
            "\n",
            "1. Naruto\n",
            "Type: TV\n",
            "Genre: Action, Comedy, Martial Arts, Shounen, Super Power\n",
            "Similarity Score: 1.000\n",
            "\n",
            "2. Naruto x UT\n",
            "Type: OVA\n",
            "Genre: Action, Comedy, Martial Arts, Shounen, Super Power\n",
            "Similarity Score: 0.953\n",
            "\n",
            "3. Rekka no Honoo\n",
            "Type: TV\n",
            "Genre: Action, Adventure, Martial Arts, Shounen, Super Power\n",
            "Similarity Score: 0.949\n",
            "\n",
            "4. Boruto: Naruto the Movie\n",
            "Type: Movie\n",
            "Genre: Action, Comedy, Martial Arts, Shounen, Super Power\n",
            "Similarity Score: 0.945\n",
            "\n",
            "5. Naruto: Shippuuden Movie 4 - The Lost Tower\n",
            "Type: Movie\n",
            "Genre: Action, Comedy, Martial Arts, Shounen, Super Power\n",
            "Similarity Score: 0.945\n",
            "\n"
          ]
        }
      ]
    },
    {
      "cell_type": "code",
      "source": [
        "# Split dataset to simulate evaluation\n",
        "train, test = train_test_split(df1, train_size=0.8, random_state=42)"
      ],
      "metadata": {
        "id": "GjRVBYQrowdb"
      },
      "execution_count": null,
      "outputs": []
    },
    {
      "cell_type": "markdown",
      "source": [
        "Evaluation:\n",
        "\n",
        "Split the dataset into training and testing sets.\n",
        "\n",
        "\n",
        "Evaluate the recommendation system using appropriate metrics such as precision, recall, and F1-score.\n",
        "\n",
        "\n",
        "Analyze the performance of the recommendation system and identify areas of improvement.\n"
      ],
      "metadata": {
        "id": "mdAH7nurxTuz"
      }
    },
    {
      "cell_type": "code",
      "source": [
        "##average of ratings by anime wise\n",
        "df1.groupby('name')['rating'].mean().sort_values(ascending=False)"
      ],
      "metadata": {
        "colab": {
          "base_uri": "https://localhost:8080/",
          "height": 489
        },
        "id": "1rVQ2Yzm8O_s",
        "outputId": "9988df10-5e3d-496e-f6f7-bd81c3cf28a2"
      },
      "execution_count": 22,
      "outputs": [
        {
          "output_type": "execute_result",
          "data": {
            "text/plain": [
              "name\n",
              "Taka no Tsume 8: Yoshida-kun no X-Files         10.00\n",
              "Spoon-hime no Swing Kitchen                      9.60\n",
              "Mogura no Motoro                                 9.50\n",
              "Kimi no Na wa.                                   9.37\n",
              "Kahei no Umi                                     9.33\n",
              "                                                ...  \n",
              "Yuuki Yuuna wa Yuusha de Aru: Yuusha no Shou      NaN\n",
              "Yuyushiki Special                                 NaN\n",
              "Zero kara Hajimeru Mahou no Sho                   NaN\n",
              "Zunda Horizon                                     NaN\n",
              "ēlDLIVE                                           NaN\n",
              "Name: rating, Length: 12292, dtype: float64"
            ],
            "text/html": [
              "<div>\n",
              "<style scoped>\n",
              "    .dataframe tbody tr th:only-of-type {\n",
              "        vertical-align: middle;\n",
              "    }\n",
              "\n",
              "    .dataframe tbody tr th {\n",
              "        vertical-align: top;\n",
              "    }\n",
              "\n",
              "    .dataframe thead th {\n",
              "        text-align: right;\n",
              "    }\n",
              "</style>\n",
              "<table border=\"1\" class=\"dataframe\">\n",
              "  <thead>\n",
              "    <tr style=\"text-align: right;\">\n",
              "      <th></th>\n",
              "      <th>rating</th>\n",
              "    </tr>\n",
              "    <tr>\n",
              "      <th>name</th>\n",
              "      <th></th>\n",
              "    </tr>\n",
              "  </thead>\n",
              "  <tbody>\n",
              "    <tr>\n",
              "      <th>Taka no Tsume 8: Yoshida-kun no X-Files</th>\n",
              "      <td>10.00</td>\n",
              "    </tr>\n",
              "    <tr>\n",
              "      <th>Spoon-hime no Swing Kitchen</th>\n",
              "      <td>9.60</td>\n",
              "    </tr>\n",
              "    <tr>\n",
              "      <th>Mogura no Motoro</th>\n",
              "      <td>9.50</td>\n",
              "    </tr>\n",
              "    <tr>\n",
              "      <th>Kimi no Na wa.</th>\n",
              "      <td>9.37</td>\n",
              "    </tr>\n",
              "    <tr>\n",
              "      <th>Kahei no Umi</th>\n",
              "      <td>9.33</td>\n",
              "    </tr>\n",
              "    <tr>\n",
              "      <th>...</th>\n",
              "      <td>...</td>\n",
              "    </tr>\n",
              "    <tr>\n",
              "      <th>Yuuki Yuuna wa Yuusha de Aru: Yuusha no Shou</th>\n",
              "      <td>NaN</td>\n",
              "    </tr>\n",
              "    <tr>\n",
              "      <th>Yuyushiki Special</th>\n",
              "      <td>NaN</td>\n",
              "    </tr>\n",
              "    <tr>\n",
              "      <th>Zero kara Hajimeru Mahou no Sho</th>\n",
              "      <td>NaN</td>\n",
              "    </tr>\n",
              "    <tr>\n",
              "      <th>Zunda Horizon</th>\n",
              "      <td>NaN</td>\n",
              "    </tr>\n",
              "    <tr>\n",
              "      <th>ēlDLIVE</th>\n",
              "      <td>NaN</td>\n",
              "    </tr>\n",
              "  </tbody>\n",
              "</table>\n",
              "<p>12292 rows × 1 columns</p>\n",
              "</div><br><label><b>dtype:</b> float64</label>"
            ]
          },
          "metadata": {},
          "execution_count": 22
        }
      ]
    },
    {
      "cell_type": "code",
      "source": [
        "''' The evaluation function evaluate_recommender uses the similarity scores to find the top top_n most similar anime for a given anime from the test set.\n",
        " However, it doesn't directly use the similarity score of the target anime itself for evaluation.\n",
        " calculates the average rating of those top top_n similar anime.\n",
        " This average rating is then used to predict whether the target anime is \"good\" (if the average rating of its similar anime is 7 or above) or \"not good\".\n",
        " This prediction is then compared to the actual rating of the target anime from the test set to calculate the precision, recall, and F1-score.'''"
      ],
      "metadata": {
        "id": "sdqocUwb7oVf"
      },
      "execution_count": null,
      "outputs": []
    },
    {
      "cell_type": "code",
      "source": [
        "# EVALUATION FUNCTION (Precision, Recall, F1)\n",
        "def evaluate_recommender(threshold=0.2, top_n=5):\n",
        "    print(\"Evaluating recommender system...\")\n",
        "    preds, truths = [], [] #open a list for prediction and truth\n",
        "    for title in test['name'].sample(1000, random_state=10): ## # Take a random sample of anime for testing\n",
        "        idx = test[test['name'] == title].index[0] #this line finds the index of the current anime title in the test DataFrame.\n",
        "        true_rating = test.loc[idx, 'rating'] #Now, get the actual rating of the current anime from the test\n",
        "        truths.append(1 if true_rating >= 7 else 0) # Actual class: 1 if this anime is considered \"good\"\n",
        "        sim_scores = list(enumerate(cos_sim[idx])) # Get top-N most similar anime indices\n",
        "        sim_scores = sorted(sim_scores, key=lambda x: x[1], reverse=True)[1:top_n+1]\n",
        "        top_avg_rating = df1.iloc[[i[0] for i in sim_scores]]['rating'].mean()\n",
        "        preds.append(1 if top_avg_rating >= 7 else 0) ## # Predict: good if top similar anime also have good ratings\n",
        "    precision = precision_score(truths, preds) # Compute metrics\n",
        "    recall = recall_score(truths, preds)\n",
        "    f1 = f1_score(truths, preds)\n",
        "    print(\"\\n PERFORMANCE METRICS:\")\n",
        "    print(f\"Precision: {precision:.2f}\")\n",
        "    print(f\"Recall: {recall:.2f}\")\n",
        "    print(f\"F1 Score: {f1:.2f}\")"
      ],
      "metadata": {
        "id": "Gjeq9mylo-M1"
      },
      "execution_count": 20,
      "outputs": []
    },
    {
      "cell_type": "code",
      "source": [
        "# Run evaluation\n",
        "evaluate_recommender(threshold=0.2, top_n=5)"
      ],
      "metadata": {
        "colab": {
          "base_uri": "https://localhost:8080/"
        },
        "id": "2nKr9qKOpS5E",
        "outputId": "d6d207a2-c405-4a79-e898-f08444f1cb6f"
      },
      "execution_count": 21,
      "outputs": [
        {
          "output_type": "stream",
          "name": "stdout",
          "text": [
            "Evaluating recommender system...\n",
            "\n",
            " PERFORMANCE METRICS:\n",
            "Precision: 0.49\n",
            "Recall: 0.62\n",
            "F1 Score: 0.55\n"
          ]
        }
      ]
    },
    {
      "cell_type": "code",
      "source": [
        "import matplotlib.pyplot as plt"
      ],
      "metadata": {
        "id": "qhERoQHOpuXm"
      },
      "execution_count": null,
      "outputs": []
    },
    {
      "cell_type": "code",
      "source": [
        "# COSINE SIMILARITY DISTRIBUTION (Quality Insight)\n",
        "# -------------------------------------------------------------\n",
        "# Check overall similarity distribution — helps understand distinctiveness\n",
        "sim_values = cos_sim.flatten()\n",
        "plt.figure(figsize=(6,4))\n",
        "plt.hist(sim_values, bins=30, edgecolor='black')\n",
        "plt.title(\"Cosine Similarity Distribution Between Anime\")\n",
        "plt.xlabel(\"Cosine Similarity\")\n",
        "plt.ylabel(\"Frequency\")\n",
        "plt.show()"
      ],
      "metadata": {
        "colab": {
          "base_uri": "https://localhost:8080/",
          "height": 410
        },
        "id": "JNeF5lTwpXph",
        "outputId": "4abc9f8d-9e2a-4e18-8954-ce6bd1683c75"
      },
      "execution_count": null,
      "outputs": [
        {
          "output_type": "display_data",
          "data": {
            "text/plain": [
              "<Figure size 600x400 with 1 Axes>"
            ],
            "image/png": "[encoded data removed]"
          },
          "metadata": {}
        }
      ]
    },
    {
      "cell_type": "code",
      "source": [
        "''' Analyze current performance and improvements:\n",
        "Explore alternative features: Consider incorporating other features besides genre and type, such as member count, rating, or even external data if available.\n",
        "Implement different similarity metrics: Experiment with other similarity measures besides cosine similarity, such as Euclidean distance or Pearson correlation.\n",
        "Tune hyperparameters: Experiment with different values for the threshold and top_n parameters in the recommend_anime and evaluate_recommender functions to see how they impact performance.\n",
        "Perform more comprehensive evaluation: Evaluate the system on a larger sample of the test set and consider additional evaluation metrics if relevant.\n",
        "Iterate and evaluate: Based on the evaluation results, iterate on the improvements and re-evaluate the system until satisfactory performance is achieved.'''"
      ],
      "metadata": {
        "id": "sgdkYmGo82m0"
      },
      "execution_count": null,
      "outputs": []
    },
    {
      "cell_type": "markdown",
      "source": [
        "\n",
        "Interview Questions:\n",
        "\n",
        "\n",
        "1. Can you explain the difference between user-based and item-based collaborative filtering?\n",
        "\n",
        "\n",
        "2. What is collaborative filtering, and how does it work?"
      ],
      "metadata": {
        "id": "yXFcjYVNxarS"
      }
    },
    {
      "cell_type": "code",
      "source": [
        "''' 1: User-based Collaborative Filtering:\n",
        "             It recommends items to a target user based on the preferences of other users who have similar tastes.\n",
        "              \"Similar users\" are identified by comparing their past ratings or interactions with common items.\n",
        "    2: Item-based collaborative filtering:\n",
        "               It recommends items to a target user based on the similarity between items.\n",
        "               If a user likes a particular item, the system recommends other items that are similar to it.'''"
      ],
      "metadata": {
        "id": "qb0o2sqAxcuy",
        "colab": {
          "base_uri": "https://localhost:8080/",
          "height": 70
        },
        "outputId": "72f902e8-a242-4774-c893-e48761c283be"
      },
      "execution_count": 23,
      "outputs": [
        {
          "output_type": "execute_result",
          "data": {
            "text/plain": [
              "' 1: User-based Collaborative Filtering:\\n             It recommends items to a target user based on the preferences of other users who have similar tastes. \\n              \"Similar users\" are identified by comparing their past ratings or interactions with common items.\\n    2: Item-based collaborative filtering:\\n               It recommends items to a target user based on the similarity between items. \\n               If a user likes a particular item, the system recommends other items that are similar to it.'"
            ],
            "application/vnd.google.colaboratory.intrinsic+json": {
              "type": "string"
            }
          },
          "metadata": {},
          "execution_count": 23
        }
      ]
    },
    {
      "cell_type": "code",
      "source": [
        "'''It is a technique used by recommender systems to suggest items to users by identifying similarities between users' preferences and behaviors.\n",
        " It works by,\n",
        " Data Collection: The system collects data on user preferences, such as ratings, purchases, or viewed items, to build a user-item matrix.\n",
        "Similarity Calculation: It then calculates the similarity between users or items.\n",
        "User-based CF: Finds users with similar rating patterns to the active user and recommends items they liked.\n",
        "Item-based CF: Finds items similar to those the active user has liked and recommends those new, similar items.\n",
        "Based on these calculated similarities, the system predicts and recommends items the user is likely to enjoy'''"
      ],
      "metadata": {
        "colab": {
          "base_uri": "https://localhost:8080/",
          "height": 105
        },
        "id": "rSbCA7v3-RND",
        "outputId": "689e3a84-3364-46b3-cdb6-37207df3aa7a"
      },
      "execution_count": 24,
      "outputs": [
        {
          "output_type": "execute_result",
          "data": {
            "text/plain": [
              "\"It is a technique used by recommender systems to suggest items to users by identifying similarities between users' preferences and behaviors.\\n It works by,\\n Data Collection: The system collects data on user preferences, such as ratings, purchases, or viewed items, to build a user-item matrix. \\nSimilarity Calculation: It then calculates the similarity between users or items. \\nUser-based CF: Finds users with similar rating patterns to the active user and recommends items they liked. \\nItem-based CF: Finds items similar to those the active user has liked and recommends those new, similar items. \\nBased on these calculated similarities, the system predicts and recommends items the user is likely to enjoy\""
            ],
            "application/vnd.google.colaboratory.intrinsic+json": {
              "type": "string"
            }
          },
          "metadata": {},
          "execution_count": 24
        }
      ]
    },
    {
      "cell_type": "code",
      "source": [],
      "metadata": {
        "id": "CJXjPaWl_Agi"
      },
      "execution_count": null,
      "outputs": []
    }
  ]
}